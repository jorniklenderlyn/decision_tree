{
 "cells": [
  {
   "cell_type": "code",
   "execution_count": 6,
   "id": "418c521d",
   "metadata": {},
   "outputs": [],
   "source": [
    "import numpy as np"
   ]
  },
  {
   "cell_type": "code",
   "execution_count": 7,
   "id": "546ae131",
   "metadata": {},
   "outputs": [],
   "source": [
    "np.random.seed(42)\n",
    "y = (np.random.random((10)) * 10).astype(int)"
   ]
  },
  {
   "cell_type": "code",
   "execution_count": 8,
   "id": "1d788de3",
   "metadata": {},
   "outputs": [
    {
     "ename": "NameError",
     "evalue": "name 'z' is not defined",
     "output_type": "error",
     "traceback": [
      "\u001b[31m---------------------------------------------------------------------------\u001b[39m",
      "\u001b[31mNameError\u001b[39m                                 Traceback (most recent call last)",
      "\u001b[36mCell\u001b[39m\u001b[36m \u001b[39m\u001b[32mIn[8]\u001b[39m\u001b[32m, line 3\u001b[39m\n\u001b[32m      1\u001b[39m counts = np.bincount(y)\n\u001b[32m      2\u001b[39m probabilities = counts / \u001b[38;5;28mlen\u001b[39m(y)\n\u001b[32m----> \u001b[39m\u001b[32m3\u001b[39m np.sum([\u001b[43mz\u001b[49m])\n",
      "\u001b[31mNameError\u001b[39m: name 'z' is not defined"
     ]
    }
   ],
   "source": [
    "counts = np.bincount(y)\n",
    "probabilities = counts / len(y)\n",
    "np.sum([z])"
   ]
  },
  {
   "cell_type": "code",
   "execution_count": 9,
   "id": "1b794ceb",
   "metadata": {},
   "outputs": [],
   "source": [
    "from sklearn.datasets import load_iris \n",
    "from sklearn.tree import DecisionTreeClassifier\n",
    "from sklearn.model_selection import train_test_split\n",
    "from decision_tree import DecisionTree\n",
    "from sklearn.metrics import accuracy_score"
   ]
  },
  {
   "cell_type": "code",
   "execution_count": 10,
   "id": "2e67a800",
   "metadata": {},
   "outputs": [],
   "source": [
    "X, y = load_iris().data, load_iris().target\n",
    "X_train, X_test, y_train, y_test = train_test_split(X, y, random_state=42, test_size=0.2, stratify=y)"
   ]
  },
  {
   "cell_type": "code",
   "execution_count": 11,
   "id": "213ffb8c",
   "metadata": {},
   "outputs": [],
   "source": [
    "sk_tree = DecisionTreeClassifier()\n",
    "sk_tree.fit(X_train, y_train)\n",
    "my_tree = DecisionTree()\n",
    "my_tree.fit(X_train, y_train)"
   ]
  },
  {
   "cell_type": "code",
   "execution_count": 12,
   "id": "be8538ec",
   "metadata": {},
   "outputs": [
    {
     "name": "stdout",
     "output_type": "stream",
     "text": [
      "sk: 0.9666666666666667\n",
      "my: 0.9333333333333333\n"
     ]
    }
   ],
   "source": [
    "print(f'sk: {accuracy_score(y_test, sk_tree.predict(X_test))}')\n",
    "print(f'my: {accuracy_score(y_test, my_tree.predict(X_test))}')"
   ]
  },
  {
   "cell_type": "code",
   "execution_count": null,
   "id": "b60493e0",
   "metadata": {},
   "outputs": [],
   "source": [
    "def _entropy(y):\n",
    "    if len(y) == 0:\n",
    "        return 0\n",
    "    counts = np.bincount(y)\n",
    "    probabilities = counts / len(y)\n",
    "    \n",
    "    return -np.sum(probabilities * np.log2(probabilities))"
   ]
  },
  {
   "cell_type": "code",
   "execution_count": 13,
   "id": "bd1769d1",
   "metadata": {},
   "outputs": [
    {
     "name": "stderr",
     "output_type": "stream",
     "text": [
      "c:\\Users\\kamaz\\Desktop\\projects\\learning\\decision_tree\\decision_tree.py:40: RuntimeWarning: divide by zero encountered in log2\n",
      "  logging.info(f'{np.log2(probabilities)} {counts} {probabilities}')\n",
      "c:\\Users\\kamaz\\Desktop\\projects\\learning\\decision_tree\\decision_tree.py:41: RuntimeWarning: divide by zero encountered in log2\n",
      "  return -np.sum(probabilities * np.log2(probabilities))\n",
      "c:\\Users\\kamaz\\Desktop\\projects\\learning\\decision_tree\\decision_tree.py:41: RuntimeWarning: invalid value encountered in multiply\n",
      "  return -np.sum(probabilities * np.log2(probabilities))\n"
     ]
    },
    {
     "data": {
      "text/plain": [
       "np.float64(nan)"
      ]
     },
     "execution_count": 13,
     "metadata": {},
     "output_type": "execute_result"
    }
   ],
   "source": [
    "my_tree._entropy(np.array([1, 2, 3]))"
   ]
  },
  {
   "cell_type": "code",
   "execution_count": null,
   "id": "b5c852e4",
   "metadata": {},
   "outputs": [],
   "source": []
  }
 ],
 "metadata": {
  "kernelspec": {
   "display_name": "Python 3",
   "language": "python",
   "name": "python3"
  },
  "language_info": {
   "codemirror_mode": {
    "name": "ipython",
    "version": 3
   },
   "file_extension": ".py",
   "mimetype": "text/x-python",
   "name": "python",
   "nbconvert_exporter": "python",
   "pygments_lexer": "ipython3",
   "version": "3.11.9"
  }
 },
 "nbformat": 4,
 "nbformat_minor": 5
}
